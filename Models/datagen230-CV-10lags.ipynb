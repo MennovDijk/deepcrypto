{
 "cells": [
  {
   "cell_type": "code",
   "execution_count": 20,
   "metadata": {
    "collapsed": false
   },
   "outputs": [],
   "source": [
    "#CV data formatting code\n",
    "import statsmodels as sm\n",
    "import pandas as pd\n",
    "import numpy as np\n",
    "import matplotlib.pyplot as plt\n",
    "from statsmodels.tsa.api import VAR\n",
    "from sklearn.preprocessing import MinMaxScaler"
   ]
  },
  {
   "cell_type": "code",
   "execution_count": 132,
   "metadata": {
    "collapsed": false
   },
   "outputs": [],
   "source": [
    "x = pd.read_csv('/Users/andrewslottje/Documents/cv_x.csv', parse_dates=True)\n",
    "x = x.rename(columns={\"[TimeStamp]\":\"Timestamp\"})\n",
    "y = pd.read_csv('/Users/andrewslottje/Documents/cv_y.csv', parse_dates=True)"
   ]
  },
  {
   "cell_type": "code",
   "execution_count": 133,
   "metadata": {
    "collapsed": false
   },
   "outputs": [
    {
     "name": "stderr",
     "output_type": "stream",
     "text": [
      "/anaconda/lib/python3.6/site-packages/ipykernel/__main__.py:3: RuntimeWarning: invalid value encountered in log\n",
      "  app.launch_new_instance()\n",
      "/anaconda/lib/python3.6/site-packages/ipykernel/__main__.py:4: RuntimeWarning: invalid value encountered in log\n"
     ]
    }
   ],
   "source": [
    "#create new variables for stationarity\n",
    "x.index = pd.DatetimeIndex(x.Timestamp)\n",
    "x['ETHspread_d']=np.log(x['ETHspread']/x['ETHspread'].shift(1))\n",
    "x['ETHvolume_d']=np.log(x['ETHvolume']/x['ETHvolume'].shift(1))\n",
    "x.loc[x.ETHvolume_d.isnull(),'ETHvolume_d']=0.0\n",
    "x.loc[x.ETHspread_d.isnull(),'ETHspread_d']=0.0\n",
    "x['ETHreturnindicator']=np.sign(x['ETHreturn'])\n",
    "x=x[~x.isnull()]\n",
    "data = x[['ETHreturn','ETHspread_d','ETHvolume_d','XRPreturn','LTCreturn','DASHreturn','XMRreturn','ETHreturnindicator']]"
   ]
  },
  {
   "cell_type": "code",
   "execution_count": 134,
   "metadata": {
    "collapsed": false
   },
   "outputs": [
    {
     "name": "stderr",
     "output_type": "stream",
     "text": [
      "/anaconda/lib/python3.6/site-packages/ipykernel/__main__.py:4: SettingWithCopyWarning: \n",
      "A value is trying to be set on a copy of a slice from a DataFrame.\n",
      "Try using .loc[row_indexer,col_indexer] = value instead\n",
      "\n",
      "See the caveats in the documentation: http://pandas.pydata.org/pandas-docs/stable/indexing.html#indexing-view-versus-copy\n",
      "/anaconda/lib/python3.6/site-packages/ipykernel/__main__.py:5: SettingWithCopyWarning: \n",
      "A value is trying to be set on a copy of a slice from a DataFrame.\n",
      "Try using .loc[row_indexer,col_indexer] = value instead\n",
      "\n",
      "See the caveats in the documentation: http://pandas.pydata.org/pandas-docs/stable/indexing.html#indexing-view-versus-copy\n",
      "/anaconda/lib/python3.6/site-packages/ipykernel/__main__.py:7: SettingWithCopyWarning: \n",
      "A value is trying to be set on a copy of a slice from a DataFrame.\n",
      "Try using .loc[row_indexer,col_indexer] = value instead\n",
      "\n",
      "See the caveats in the documentation: http://pandas.pydata.org/pandas-docs/stable/indexing.html#indexing-view-versus-copy\n"
     ]
    }
   ],
   "source": [
    "#fit VAR using train data VAR (we use CV data here for the covariates and will adjust this)\n",
    "model=VAR(data)\n",
    "results = model.fit(3)\n",
    "data['ETHpredict']=results.fittedvalues['ETHreturn']\n",
    "data['ETHreturn_resid']=(data['ETHreturn']-results.fittedvalues['ETHreturn'])\n",
    "#include next-period prediction from current filtration\n",
    "data['ETHpredict']=data['ETHpredict'].shift(1)"
   ]
  },
  {
   "cell_type": "code",
   "execution_count": 135,
   "metadata": {
    "collapsed": false
   },
   "outputs": [
    {
     "name": "stderr",
     "output_type": "stream",
     "text": [
      "/anaconda/lib/python3.6/site-packages/ipykernel/__main__.py:5: SettingWithCopyWarning: \n",
      "A value is trying to be set on a copy of a slice from a DataFrame.\n",
      "Try using .loc[row_indexer,col_indexer] = value instead\n",
      "\n",
      "See the caveats in the documentation: http://pandas.pydata.org/pandas-docs/stable/indexing.html#indexing-view-versus-copy\n"
     ]
    }
   ],
   "source": [
    "#generate lagged data\n",
    "for i in ['ETHreturn','ETHspread_d','ETHvolume_d','XRPreturn','LTCreturn','DASHreturn','XMRreturn','ETHreturn_resid']:\n",
    "#for i in ['ETHreturn','ETHspread_d','ETHvolume_d','XRPreturn','LTCreturn','DASHreturn','XMRreturn']:\n",
    "    #generate 10 lags of data\n",
    "    for j in range(1,10):\n",
    "        data[str(i)+\"_l\"+str(j)]=data[str(i)].shift(j)\n",
    "\n",
    "data=data.drop(['ETHreturnindicator'],axis=1)\n",
    "data['ETHreturnindicator']=0.0\n",
    "data.loc[data.ETHreturn>.005,'ETHreturnindicator']=1.0\n",
    "data['ETHreturnindicator']=data['ETHreturnindicator'].shift(-1)\n",
    "#drop nan rows\n",
    "data=data.drop(data.index[0:14])\n",
    "data=data.drop(data.index[-1:])"
   ]
  },
  {
   "cell_type": "code",
   "execution_count": 100,
   "metadata": {
    "collapsed": false
   },
   "outputs": [],
   "source": [
    "#see comment in train set\n",
    "#for i in data.columns.values[:-1]:\n",
    "#    data[i]=MinMaxScaler(feature_range=(-1, 1)).fit_transform(data[i])"
   ]
  },
  {
   "cell_type": "code",
   "execution_count": 139,
   "metadata": {
    "collapsed": false
   },
   "outputs": [],
   "source": [
    "#data.to_csv('/Users/andrewslottje/Documents/train_x.csv')\n",
    "#data.to_csv('/Users/andrewslottje/Documents/train_x_noresid.csv')\n",
    "data.to_csv('/Users/andrewslottje/Documents/cv_x_10lags_005.csv')"
   ]
  },
  {
   "cell_type": "code",
   "execution_count": 138,
   "metadata": {
    "collapsed": false
   },
   "outputs": [
    {
     "data": {
      "text/plain": [
       "0.26191498497209104"
      ]
     },
     "execution_count": 138,
     "metadata": {},
     "output_type": "execute_result"
    }
   ],
   "source": [
    "#class frequency\n",
    "len(data[data['ETHreturnindicator']==1])/len(data)"
   ]
  }
 ],
 "metadata": {
  "kernelspec": {
   "display_name": "Python 3",
   "language": "python",
   "name": "python3"
  },
  "language_info": {
   "codemirror_mode": {
    "name": "ipython",
    "version": 3
   },
   "file_extension": ".py",
   "mimetype": "text/x-python",
   "name": "python",
   "nbconvert_exporter": "python",
   "pygments_lexer": "ipython3",
   "version": "3.6.4"
  }
 },
 "nbformat": 4,
 "nbformat_minor": 2
}
